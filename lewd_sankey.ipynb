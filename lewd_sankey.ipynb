{
 "cells": [
  {
   "cell_type": "markdown",
   "metadata": {},
   "source": [
    "## Analysis of Lewd Conduct Calls\n",
    "\n",
    "by Stacy Montemayor\n",
    "\n",
    "An examination of how longer time deltas between when the complaint was received and when an officer arrived on scene affects outcomes of lewd conduct calls."
   ]
  },
  {
   "cell_type": "code",
   "execution_count": 1,
   "metadata": {},
   "outputs": [],
   "source": [
    "import pandas as pd\n",
    "import numpy as np\n",
    "\n",
    "from ipysankeywidget import SankeyWidget"
   ]
  },
  {
   "cell_type": "code",
   "execution_count": 2,
   "metadata": {},
   "outputs": [],
   "source": [
    "%matplotlib inline"
   ]
  },
  {
   "cell_type": "markdown",
   "metadata": {},
   "source": [
    "### Import cleaned data"
   ]
  },
  {
   "cell_type": "code",
   "execution_count": 3,
   "metadata": {},
   "outputs": [],
   "source": [
    "%run import_clean_call_data.ipynb"
   ]
  },
  {
   "cell_type": "markdown",
   "metadata": {},
   "source": [
    "### Analysis"
   ]
  },
  {
   "cell_type": "code",
   "execution_count": 8,
   "metadata": {},
   "outputs": [
    {
     "data": {
      "text/plain": [
       "[{'source': 'start', 'target': 'A', 'value': 2},\n",
       " {'source': 'A', 'target': 'B', 'value': 2},\n",
       " {'source': 'C', 'target': 'A', 'value': 2},\n",
       " {'source': 'A', 'target': 'C', 'value': 2}]"
      ]
     },
     "execution_count": 8,
     "metadata": {},
     "output_type": "execute_result"
    }
   ],
   "source": [
    "links = [\n",
    "    {'source': 'start', 'target': 'A', 'value': 2},\n",
    "    {'source': 'A', 'target': 'B', 'value': 2},\n",
    "    {'source': 'C', 'target': 'A', 'value': 2},\n",
    "    {'source': 'A', 'target': 'C', 'value': 2},\n",
    "]\n",
    "links"
   ]
  },
  {
   "cell_type": "code",
   "execution_count": 5,
   "metadata": {},
   "outputs": [],
   "source": [
    "w = SankeyWidget(links=links, margins=dict(top=0, bottom=0, left=50, right=100))"
   ]
  },
  {
   "cell_type": "markdown",
   "metadata": {},
   "source": [
    "Cleaning requirements: \n",
    "- remove all but lewd conduct calls\n",
    "- figure out how to determine if they're happening currently-ish\n",
    "- Create ~5 time buckets\n",
    "- Flow each precinct into a time bucket\n",
    "- Then flow into how event was cleared\n"
   ]
  },
  {
   "cell_type": "markdown",
   "metadata": {},
   "source": [
    "What I want to see: \n",
    "scatterplot of timedelta by precinct  \n",
    "time deltas by precinct"
   ]
  },
  {
   "cell_type": "code",
   "execution_count": 4,
   "metadata": {},
   "outputs": [],
   "source": [
    "# Create dataframe that will contain all lewd conduct calls \n",
    "lewd_conduct_df = pd.DataFrame(data)\n",
    "\n",
    "# Create dataframe containing only lewd conduct calls\n",
    "lewd_conduct_df = lewd_conduct_df[is_lewd_conduct]"
   ]
  },
  {
   "cell_type": "code",
   "execution_count": 5,
   "metadata": {
    "scrolled": true
   },
   "outputs": [
    {
     "data": {
      "text/html": [
       "<div>\n",
       "<style scoped>\n",
       "    .dataframe tbody tr th:only-of-type {\n",
       "        vertical-align: middle;\n",
       "    }\n",
       "\n",
       "    .dataframe tbody tr th {\n",
       "        vertical-align: top;\n",
       "    }\n",
       "\n",
       "    .dataframe thead th {\n",
       "        text-align: right;\n",
       "    }\n",
       "</style>\n",
       "<table border=\"1\" class=\"dataframe\">\n",
       "  <thead>\n",
       "    <tr style=\"text-align: right;\">\n",
       "      <th></th>\n",
       "      <th>event_clearing</th>\n",
       "      <th>call_type</th>\n",
       "      <th>priority</th>\n",
       "      <th>initial_call_type</th>\n",
       "      <th>final_call_type</th>\n",
       "      <th>original_time_queued</th>\n",
       "      <th>arrived_time</th>\n",
       "      <th>precinct</th>\n",
       "      <th>sector</th>\n",
       "      <th>beat</th>\n",
       "      <th>time_delta</th>\n",
       "      <th>year</th>\n",
       "      <th>month</th>\n",
       "      <th>is_arrest</th>\n",
       "      <th>is_TRU</th>\n",
       "      <th>crime_type</th>\n",
       "    </tr>\n",
       "    <tr>\n",
       "      <th>CAD Event Number</th>\n",
       "      <th></th>\n",
       "      <th></th>\n",
       "      <th></th>\n",
       "      <th></th>\n",
       "      <th></th>\n",
       "      <th></th>\n",
       "      <th></th>\n",
       "      <th></th>\n",
       "      <th></th>\n",
       "      <th></th>\n",
       "      <th></th>\n",
       "      <th></th>\n",
       "      <th></th>\n",
       "      <th></th>\n",
       "      <th></th>\n",
       "      <th></th>\n",
       "    </tr>\n",
       "  </thead>\n",
       "  <tbody>\n",
       "    <tr>\n",
       "      <th>2010000066820</th>\n",
       "      <td>ASSISTANCE RENDERED</td>\n",
       "      <td>911</td>\n",
       "      <td>2</td>\n",
       "      <td>MENTAL - PERSON OR PICKUP/TRANSPORT</td>\n",
       "      <td>Lewd Conduct</td>\n",
       "      <td>2010-02-27 22:54:25</td>\n",
       "      <td>2010-02-27 22:55:45</td>\n",
       "      <td>North</td>\n",
       "      <td>UNION</td>\n",
       "      <td>U1</td>\n",
       "      <td>80</td>\n",
       "      <td>2010</td>\n",
       "      <td>2</td>\n",
       "      <td>no</td>\n",
       "      <td>no</td>\n",
       "      <td>other sex crime</td>\n",
       "    </tr>\n",
       "    <tr>\n",
       "      <th>2010000001201</th>\n",
       "      <td>ASSISTANCE RENDERED</td>\n",
       "      <td>911</td>\n",
       "      <td>2</td>\n",
       "      <td>LEWD -  (EXPOSING, FLASHING, URINATING IN PUB)</td>\n",
       "      <td>Lewd Conduct</td>\n",
       "      <td>2010-01-02 00:37:29</td>\n",
       "      <td>2010-01-02 00:42:16</td>\n",
       "      <td>West</td>\n",
       "      <td>DAVID</td>\n",
       "      <td>D2</td>\n",
       "      <td>287</td>\n",
       "      <td>2010</td>\n",
       "      <td>1</td>\n",
       "      <td>no</td>\n",
       "      <td>no</td>\n",
       "      <td>other sex crime</td>\n",
       "    </tr>\n",
       "    <tr>\n",
       "      <th>2010000001213</th>\n",
       "      <td>ASSISTANCE RENDERED</td>\n",
       "      <td>ONVIEW</td>\n",
       "      <td>7</td>\n",
       "      <td>SUSPICIOUS STOP - OFFICER INITIATED ONVIEW</td>\n",
       "      <td>Lewd Conduct</td>\n",
       "      <td>2010-01-02 00:51:02</td>\n",
       "      <td>2010-01-02 00:51:03</td>\n",
       "      <td>West</td>\n",
       "      <td>DAVID</td>\n",
       "      <td>D2</td>\n",
       "      <td>1</td>\n",
       "      <td>2010</td>\n",
       "      <td>1</td>\n",
       "      <td>no</td>\n",
       "      <td>no</td>\n",
       "      <td>other sex crime</td>\n",
       "    </tr>\n",
       "    <tr>\n",
       "      <th>2010000001517</th>\n",
       "      <td>UNABLE TO LOCATE INCIDENT OR COMPLAINANT</td>\n",
       "      <td>TELEPHONE OTHER, NOT 911</td>\n",
       "      <td>2</td>\n",
       "      <td>LEWD -  (EXPOSING, FLASHING, URINATING IN PUB)</td>\n",
       "      <td>Lewd Conduct</td>\n",
       "      <td>2010-01-02 11:14:25</td>\n",
       "      <td>2010-01-02 11:35:16</td>\n",
       "      <td>East</td>\n",
       "      <td>EDWARD</td>\n",
       "      <td>E1</td>\n",
       "      <td>1251</td>\n",
       "      <td>2010</td>\n",
       "      <td>1</td>\n",
       "      <td>no</td>\n",
       "      <td>no</td>\n",
       "      <td>other sex crime</td>\n",
       "    </tr>\n",
       "    <tr>\n",
       "      <th>2010000002053</th>\n",
       "      <td>REPORT WRITTEN (NO ARREST)</td>\n",
       "      <td>ONVIEW</td>\n",
       "      <td>7</td>\n",
       "      <td>SUSPICIOUS STOP - OFFICER INITIATED ONVIEW</td>\n",
       "      <td>Lewd Conduct</td>\n",
       "      <td>2010-01-02 21:15:49</td>\n",
       "      <td>2010-01-02 21:15:49</td>\n",
       "      <td>North</td>\n",
       "      <td>BOY</td>\n",
       "      <td>B3</td>\n",
       "      <td>0</td>\n",
       "      <td>2010</td>\n",
       "      <td>1</td>\n",
       "      <td>no</td>\n",
       "      <td>no</td>\n",
       "      <td>other sex crime</td>\n",
       "    </tr>\n",
       "  </tbody>\n",
       "</table>\n",
       "</div>"
      ],
      "text/plain": [
       "                                            event_clearing  \\\n",
       "CAD Event Number                                             \n",
       "2010000066820                          ASSISTANCE RENDERED   \n",
       "2010000001201                          ASSISTANCE RENDERED   \n",
       "2010000001213                          ASSISTANCE RENDERED   \n",
       "2010000001517     UNABLE TO LOCATE INCIDENT OR COMPLAINANT   \n",
       "2010000002053                   REPORT WRITTEN (NO ARREST)   \n",
       "\n",
       "                                 call_type  priority  \\\n",
       "CAD Event Number                                       \n",
       "2010000066820                          911         2   \n",
       "2010000001201                          911         2   \n",
       "2010000001213                       ONVIEW         7   \n",
       "2010000001517     TELEPHONE OTHER, NOT 911         2   \n",
       "2010000002053                       ONVIEW         7   \n",
       "\n",
       "                                               initial_call_type  \\\n",
       "CAD Event Number                                                   \n",
       "2010000066820                MENTAL - PERSON OR PICKUP/TRANSPORT   \n",
       "2010000001201     LEWD -  (EXPOSING, FLASHING, URINATING IN PUB)   \n",
       "2010000001213         SUSPICIOUS STOP - OFFICER INITIATED ONVIEW   \n",
       "2010000001517     LEWD -  (EXPOSING, FLASHING, URINATING IN PUB)   \n",
       "2010000002053         SUSPICIOUS STOP - OFFICER INITIATED ONVIEW   \n",
       "\n",
       "                 final_call_type original_time_queued        arrived_time  \\\n",
       "CAD Event Number                                                            \n",
       "2010000066820       Lewd Conduct  2010-02-27 22:54:25 2010-02-27 22:55:45   \n",
       "2010000001201       Lewd Conduct  2010-01-02 00:37:29 2010-01-02 00:42:16   \n",
       "2010000001213       Lewd Conduct  2010-01-02 00:51:02 2010-01-02 00:51:03   \n",
       "2010000001517       Lewd Conduct  2010-01-02 11:14:25 2010-01-02 11:35:16   \n",
       "2010000002053       Lewd Conduct  2010-01-02 21:15:49 2010-01-02 21:15:49   \n",
       "\n",
       "                 precinct  sector beat  time_delta  year  month is_arrest  \\\n",
       "CAD Event Number                                                            \n",
       "2010000066820       North   UNION   U1          80  2010      2        no   \n",
       "2010000001201        West   DAVID   D2         287  2010      1        no   \n",
       "2010000001213        West   DAVID   D2           1  2010      1        no   \n",
       "2010000001517        East  EDWARD   E1        1251  2010      1        no   \n",
       "2010000002053       North     BOY   B3           0  2010      1        no   \n",
       "\n",
       "                 is_TRU       crime_type  \n",
       "CAD Event Number                          \n",
       "2010000066820        no  other sex crime  \n",
       "2010000001201        no  other sex crime  \n",
       "2010000001213        no  other sex crime  \n",
       "2010000001517        no  other sex crime  \n",
       "2010000002053        no  other sex crime  "
      ]
     },
     "execution_count": 5,
     "metadata": {},
     "output_type": "execute_result"
    }
   ],
   "source": [
    "lewd_conduct_df.head()"
   ]
  },
  {
   "cell_type": "code",
   "execution_count": 8,
   "metadata": {},
   "outputs": [],
   "source": [
    "lewd_conduct_df.to_csv('lewd_conduct_df.csv', index=True)"
   ]
  },
  {
   "cell_type": "code",
   "execution_count": null,
   "metadata": {},
   "outputs": [],
   "source": [
    "#The widget requires an edgelist with source, target and value columns\n",
    "dfm=pd.melt(df,id_vars=['DESTINATION','Region'], var_name='source', value_name='value')\n",
    "dfm.columns=['DESTINATION','target','source','value']\n",
    "dfm['target']=dfm['target']+'_'\n",
    "\n",
    "lewd_conduct_dfm = pd.melt(lewd_conduct_df, id_vars=['precinct'])"
   ]
  }
 ],
 "metadata": {
  "kernelspec": {
   "display_name": "Python 3",
   "language": "python",
   "name": "python3"
  },
  "language_info": {
   "codemirror_mode": {
    "name": "ipython",
    "version": 3
   },
   "file_extension": ".py",
   "mimetype": "text/x-python",
   "name": "python",
   "nbconvert_exporter": "python",
   "pygments_lexer": "ipython3",
   "version": "3.6.0"
  }
 },
 "nbformat": 4,
 "nbformat_minor": 2
}
